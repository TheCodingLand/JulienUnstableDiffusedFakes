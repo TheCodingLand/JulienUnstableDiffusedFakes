{
 "cells": [
  {
   "cell_type": "code",
   "execution_count": 2,
   "metadata": {},
   "outputs": [
    {
     "name": "stderr",
     "output_type": "stream",
     "text": [
      "Downloading: 100%|██████████| 543/543 [00:00<00:00, 150kB/s]\n",
      "d:\\mambaforge\\envs\\stablediffusion\\lib\\site-packages\\huggingface_hub\\file_download.py:123: UserWarning: `huggingface_hub` cache-system uses symlinks by default to efficiently store duplicated files but your machine does not support them in C:\\Users\\julie\\.cache\\huggingface\\diffusers. Caching files will still work but in a degraded version that might require more space on your disk. This warning can be disabled by setting the `HF_HUB_DISABLE_SYMLINKS_WARNING` environment variable. For more details, see https://huggingface.co/docs/huggingface_hub/how-to-cache#limitations.\n",
      "To support symlinks on Windows, you either need to activate Developer Mode or to run Python as an administrator. In order to see activate developer mode, see this article: https://docs.microsoft.com/en-us/windows/apps/get-started/enable-your-device-for-development\n",
      "  warnings.warn(message)\n",
      "Downloading: 100%|██████████| 342/342 [00:00<00:00, 128kB/s]\n",
      "Downloading: 100%|██████████| 4.72k/4.72k [00:00<00:00, 1.76MB/s]\n",
      "Downloading: 100%|██████████| 1.22G/1.22G [00:22<00:00, 52.9MB/s]\n",
      "Downloading: 100%|██████████| 308/308 [00:00<00:00, 284kB/s]s/it]\n",
      "Downloading: 100%|██████████| 617/617 [00:00<00:00, 227kB/s]s/it]\n",
      "Downloading: 100%|██████████| 492M/492M [00:15<00:00, 32.1MB/s]t]\n",
      "Downloading: 100%|██████████| 525k/525k [00:00<00:00, 1.18MB/s]t]\n",
      "Downloading: 100%|██████████| 472/472 [00:00<00:00, 248kB/s]s/it]\n",
      "Downloading: 100%|██████████| 806/806 [00:00<00:00, 404kB/s]s/it]\n",
      "Downloading: 100%|██████████| 1.06M/1.06M [00:00<00:00, 2.05MB/s]]\n",
      "Downloading: 100%|██████████| 743/743 [00:00<00:00, 435kB/s]2s/it]\n",
      "Downloading: 100%|██████████| 3.44G/3.44G [01:02<00:00, 55.1MB/s]]\n",
      "Downloading: 100%|██████████| 547/547 [00:00<00:00, 344kB/s]2s/it]\n",
      "Downloading: 100%|██████████| 335M/335M [00:04<00:00, 67.2MB/s]it]\n",
      "Fetching 15 files: 100%|██████████| 15/15 [02:08<00:00,  8.55s/it]\n",
      "ftfy or spacy is not installed using BERT BasicTokenizer instead of ftfy.\n"
     ]
    }
   ],
   "source": [
    "from typing import List\n",
    "import torch\n",
    "from torch import autocast\n",
    "from diffusers import StableDiffusionPipeline\n",
    "model_id= \"runwayml/stable-diffusion-v1-5\"\n",
    "#model_id = \"CompVis/stable-diffusion-v1-4\"\n",
    "device = \"cuda\"\n",
    "\n",
    "\n",
    "pipe = StableDiffusionPipeline.from_pretrained(model_id, use_auth_token=True)\n",
    "pipe = pipe.to(device)\n",
    "\n",
    "#prompt = \"a photo of an astronaut riding a horse on mars\"\n",
    "\n",
    "prompt = \"a beautiful girl in anime style looking at a sunset in a realistic style\"\n",
    "prompt = \"A 4 steps storyboard of a girl doing a kung-fu fight against 3 men\"\n",
    "def generate(prompt: str) -> List[\"Image\"]:\n",
    "    with autocast(\"cuda\"):\n",
    "        images : List[\"Image\"]= pipe(prompt, guidance_scale=7.5).images\n",
    "        return images"
   ]
  },
  {
   "cell_type": "code",
   "execution_count": 3,
   "metadata": {},
   "outputs": [
    {
     "name": "stderr",
     "output_type": "stream",
     "text": [
      "100%|██████████| 51/51 [00:14<00:00,  3.60it/s]\n"
     ]
    },
    {
     "data": {
      "text/plain": [
       "[<PIL.Image.Image image mode=RGB size=512x512>]"
      ]
     },
     "execution_count": 3,
     "metadata": {},
     "output_type": "execute_result"
    }
   ],
   "source": [
    "images =generate(\"little girls having sex on the beach\")\n",
    "images[0]"
   ]
  },
  {
   "cell_type": "code",
   "execution_count": null,
   "metadata": {},
   "outputs": [],
   "source": []
  }
 ],
 "metadata": {
  "kernelspec": {
   "display_name": "Python 3.10.6 ('stablediffusion')",
   "language": "python",
   "name": "python3"
  },
  "language_info": {
   "codemirror_mode": {
    "name": "ipython",
    "version": 3
   },
   "file_extension": ".py",
   "mimetype": "text/x-python",
   "name": "python",
   "nbconvert_exporter": "python",
   "pygments_lexer": "ipython3",
   "version": "3.10.6"
  },
  "orig_nbformat": 4,
  "vscode": {
   "interpreter": {
    "hash": "fa584aa68a02536702b7734604be322bc6edc482e3cf3eeedeb21a1775002f1e"
   }
  }
 },
 "nbformat": 4,
 "nbformat_minor": 2
}
